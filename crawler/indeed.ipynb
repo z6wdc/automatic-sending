{
 "cells": [
  {
   "cell_type": "markdown",
   "id": "41c978ce-0017-4fc1-b8de-0a62b151eb9c",
   "metadata": {},
   "source": [
    "# source\n",
    "indeed\n",
    "\n",
    "# keyword\n",
    "データサイエンティスト\n",
    "\n",
    "# URL\n",
    "https://jp.indeed.com/%E6%B1%82%E4%BA%BA?q=%E3%83%87%E3%83%BC%E3%82%BF%E3%82%B5%E3%82%A4%E3%82%A8%E3%83%B3%E3%83%86%E3%82%A3%E3%82%B9%E3%83%88&limit=15&start=0\n"
   ]
  },
  {
   "cell_type": "code",
   "execution_count": 87,
   "id": "b75d65d2-adbc-4c9a-8915-fa46606eb039",
   "metadata": {},
   "outputs": [],
   "source": [
    "import csv\n",
    "import requests\n",
    "from bs4 import BeautifulSoup"
   ]
  },
  {
   "cell_type": "code",
   "execution_count": 43,
   "id": "865763ec-727a-4c8d-9e4a-f71bc1e62ef7",
   "metadata": {},
   "outputs": [],
   "source": [
    "MAX = 60\n",
    "INTERVAL = 15\n",
    "company_tag = []\n",
    "\n",
    "for index in range(MAX):\n",
    "    try:\n",
    "        url = f'https://jp.indeed.com/%E6%B1%82%E4%BA%BA?q=%E3%83%87%E3%83%BC%E3%82%BF%E3%82%B5%E3%82%A4%E3%82%A8%E3%83%B3%E3%83%86%E3%82%A3%E3%82%B9%E3%83%88&limit={INTERVAL}&start={index*INTERVAL}'\n",
    "        res = requests.get(url)\n",
    "        soup = BeautifulSoup(res.text, 'lxml')\n",
    "        company_tag.extend(soup.find_all('a', attrs={'data-tn-element': 'companyName'}))\n",
    "    except Exception as e:\n",
    "        print(e)"
   ]
  },
  {
   "cell_type": "code",
   "execution_count": 44,
   "id": "17905361-dad5-4a6b-ae4c-382cc910c359",
   "metadata": {},
   "outputs": [
    {
     "data": {
      "text/plain": [
       "191"
      ]
     },
     "execution_count": 44,
     "metadata": {},
     "output_type": "execute_result"
    }
   ],
   "source": [
    "len(company_tag)"
   ]
  },
  {
   "cell_type": "code",
   "execution_count": 52,
   "id": "63fdade8-20c8-4034-9de8-3263967b694b",
   "metadata": {},
   "outputs": [
    {
     "data": {
      "text/plain": [
       "<a class=\"turnstileLink\" data-tn-element=\"companyName\" href=\"/cmp/%E6%A0%AA%E5%BC%8F%E4%BC%9A%E7%A4%BE%EF%BD%8E%EF%BD%94%EF%BD%94%E3%83%87%E3%83%BC%E3%82%BF%EF%BD%83%EF%BD%83%EF%BD%93\" onmousedown=\"this.href = appendParamsOnce(this.href, 'from=SERP&amp;campaignid=serp-linkcompanyname&amp;fromjk=f620db031164b639&amp;jcid=2eb08595eeec3135')\" rel=\"noopener\" target=\"_blank\">\n",
       "株式会社NTT<b>データ</b>CCS</a>"
      ]
     },
     "execution_count": 52,
     "metadata": {},
     "output_type": "execute_result"
    }
   ],
   "source": [
    "company_tag[0]"
   ]
  },
  {
   "cell_type": "code",
   "execution_count": 57,
   "id": "719f7242-504e-4d44-bc15-6e475a60a751",
   "metadata": {},
   "outputs": [],
   "source": [
    "company_page = {}\n",
    "\n",
    "for tag in company_tag:\n",
    "    name = tag.get_text().strip()\n",
    "    link = tag.get('href')\n",
    "    if name and link:\n",
    "        company_page[name] = link"
   ]
  },
  {
   "cell_type": "code",
   "execution_count": 79,
   "id": "3d64d337-f0f3-44d1-bf70-8b6f77c8d814",
   "metadata": {},
   "outputs": [
    {
     "data": {
      "text/plain": [
       "84"
      ]
     },
     "execution_count": 79,
     "metadata": {},
     "output_type": "execute_result"
    }
   ],
   "source": [
    "len(company_page)"
   ]
  },
  {
   "cell_type": "code",
   "execution_count": 76,
   "id": "a2f9aa98-9468-419b-b09d-a18baf9587e5",
   "metadata": {},
   "outputs": [
    {
     "name": "stdout",
     "output_type": "stream",
     "text": [
      "'NoneType' object has no attribute 'get'\n",
      "'NoneType' object has no attribute 'get'\n",
      "'NoneType' object has no attribute 'get'\n",
      "'NoneType' object has no attribute 'get'\n",
      "'NoneType' object has no attribute 'get'\n",
      "'NoneType' object has no attribute 'get'\n",
      "'NoneType' object has no attribute 'get'\n",
      "'NoneType' object has no attribute 'get'\n",
      "'NoneType' object has no attribute 'get'\n",
      "'NoneType' object has no attribute 'get'\n",
      "'NoneType' object has no attribute 'get'\n"
     ]
    }
   ],
   "source": [
    "company_url = {}\n",
    "for k, v in company_page.items():\n",
    "    link = company_page[k]\n",
    "    try:\n",
    "        res = requests.get(f'https://jp.indeed.com{link}/about')\n",
    "        soup = BeautifulSoup(res.text, 'lxml')\n",
    "        url = soup.find('a', class_='cmp-AboutBasicCompanyDetailsWidget-companyLink').get('href')\n",
    "    except Exception as e:\n",
    "        print(k, f'https://jp.indeed.com{link}/about', e)\n",
    "        \n",
    "    company_url[k] = url"
   ]
  },
  {
   "cell_type": "code",
   "execution_count": 90,
   "id": "642780ed-b953-4103-b10b-acdbbd458201",
   "metadata": {},
   "outputs": [],
   "source": [
    "with open('../data/company_list_from_indeed.csv', 'w') as f:\n",
    "    writer = csv.writer(f)\n",
    "    writer.writerow(['企業名', 'URL'])\n",
    "    for k, v in company_url.items():\n",
    "        writer.writerow([k, v])"
   ]
  }
 ],
 "metadata": {
  "kernelspec": {
   "display_name": "Python 3 (ipykernel)",
   "language": "python",
   "name": "python3"
  },
  "language_info": {
   "codemirror_mode": {
    "name": "ipython",
    "version": 3
   },
   "file_extension": ".py",
   "mimetype": "text/x-python",
   "name": "python",
   "nbconvert_exporter": "python",
   "pygments_lexer": "ipython3",
   "version": "3.9.5"
  }
 },
 "nbformat": 4,
 "nbformat_minor": 5
}
